{
 "cells": [
  {
   "cell_type": "code",
   "execution_count": 10,
   "source": [
    "%load_ext autoreload\n",
    "%autoreload 2"
   ],
   "outputs": [
    {
     "output_type": "stream",
     "name": "stdout",
     "text": [
      "The autoreload extension is already loaded. To reload it, use:\n",
      "  %reload_ext autoreload\n"
     ]
    }
   ],
   "metadata": {}
  },
  {
   "cell_type": "code",
   "execution_count": 11,
   "source": [
    "import sys\n",
    "sys.path.append(\"..\")\n",
    "import os\n",
    "import shutil\n",
    "from utils.model3 import Net_mask\n",
    "#from utils.data import Data\n",
    "#from scripts.parameters import get_parameters, get_parameters_1\n",
    "import torch\n",
    "import numpy as np\n",
    "import matplotlib.pyplot as plt\n",
    "from torch.distributions.multivariate_normal import MultivariateNormal"
   ],
   "outputs": [],
   "metadata": {}
  },
  {
   "cell_type": "code",
   "execution_count": 12,
   "source": [
    "n_data = 1\n",
    "n_param = 10\n",
    "sigma2_data = 1\n",
    "data_mean = torch.zeros(n_param)\n",
    "data_covariance = torch.eye(n_param)*sigma2_data\n",
    "\n",
    "torch.manual_seed(0)\n",
    "n_data_points = 6\n",
    "n_points_max = 6\n",
    "\n",
    "all_points = torch.zeros(100, 20)\n",
    "all_solutions = torch.zeros(100, 10)\n",
    "\n",
    "for i in range(n_points_max):\n",
    "    for j in range(n_data_points):\n",
    "        torch.manual_seed(f'{i+1}{j}')\n",
    "        tensor_data = torch.zeros(n_data, 2*n_param)\n",
    "        tensor_d_sample =  MultivariateNormal(loc=data_mean, covariance_matrix=data_covariance).sample(sample_shape=(n_data,))\n",
    "        #tensor_n_masked = torch.randint(n_param, (n_data,))\n",
    "        tensor_n_masked = torch.Tensor([i+1])\n",
    "        #print(tensor_n_masked)\n",
    "        tensor_masks = torch.rand(n_data, n_param).argsort(dim=1)\n",
    "        tensor_masks = (tensor_masks < tensor_n_masked.unsqueeze(1))*1\n",
    "        tensor_data[:,:n_param] = tensor_d_sample*tensor_masks\n",
    "        tensor_data[:,n_param:] = tensor_masks\n",
    "        all_points[int(f'{i+1}{j}'),:] = tensor_data\n",
    "        #if i==4 and j==3:\n",
    "        #    print(tensor_data)\n",
    "        #torch.save(tensor_data, f'../data/test_observations/{i+1}_{j}.pt')\n",
    "torch.save(all_points, f'../data/test_observations/all_test_observations.pt')"
   ],
   "outputs": [],
   "metadata": {}
  },
  {
   "cell_type": "code",
   "execution_count": 13,
   "source": [
    "tensor_D = torch.tensor(\n",
    "    [[1, -1, 0, 0, 0, 0, 0, 0, 0, 0],\n",
    "    [0, 1, -1, 0, 0, 0, 0, 0, 0, 0],\n",
    "    [0, 0,  1, -1, 0, 0, 0, 0, 0, 0],\n",
    "    [0, 0,  0, 1, -1, 0, 0, 0, 0, 0],\n",
    "    [0, 0,  0, 0, 1, -1, 0, 0, 0, 0],\n",
    "    [0, 0,  0, 0, 0, 1, -1, 0, 0, 0],\n",
    "    [0, 0,  0, 0, 0, 0, 1, -1, 0, 0],\n",
    "    [0, 0,  0, 0, 0, 0, 0, 1, -1, 0],\n",
    "    [0, 0,  0, 0, 0, 0, 0, 0, 1, -1],\n",
    "    [-1, 0, 0, 0, 0, 0, 0, 0, 0, 1],], dtype=torch.float\n",
    ")\n",
    "tensor_Q_m = torch.mm(torch.t(tensor_D), tensor_D) \n",
    "n_param = tensor_D.size(dim=0)\n",
    "vu = 10000\n",
    "inversion_scaling = 1./vu\n",
    "tensor_Q_m_modified = tensor_Q_m + torch.ones(n_param, n_param)*inversion_scaling\n",
    "\n",
    "\n",
    "tensor_eval = torch.zeros(n_data, 2*n_param)\n",
    "\n",
    "sigma2 = 0.01\n",
    "tensor_mu_m = torch.zeros(n_param)\n",
    "tensor_Sigma_m = torch.inverse(tensor_Q_m_modified)\n",
    "tensor_Sigma_eps = torch.eye(n_param)*sigma2\n",
    "tensor_mu_eps = tensor_mu_m \n",
    "\n",
    "all_solutions = torch.zeros(100, 10)\n",
    "\n",
    "for i in range(n_points_max):\n",
    "    for j in range(n_data_points):\n",
    "        input_tensor = all_points[int(f'{i+1}{j}'),:]\n",
    "        d = input_tensor[:n_param]\n",
    "        mask = input_tensor[n_param:]\n",
    "        location = torch.where(mask > 0.5)\n",
    "        d = d[location]\n",
    "        n_data = len(d)\n",
    "        G = torch.zeros(n_data, n_param)\n",
    "        for idx, elem in enumerate(location[0]):\n",
    "            G[idx, elem] = 1\n",
    "        Sigma_eps = torch.matmul(G, torch.matmul(tensor_Sigma_eps, torch.t(G)))\n",
    "        mu_eps = torch.matmul(G, tensor_mu_eps)\n",
    "\n",
    "        #matrix calculations\n",
    "        Sigma_mm = tensor_Sigma_m\n",
    "        Sigma_dm = torch.matmul(G,Sigma_mm)\n",
    "        Sigma_md = torch.matmul(Sigma_mm, torch.t(G))\n",
    "        Sigma_dd = torch.matmul(G, torch.matmul(Sigma_mm, torch.t(G))) + Sigma_eps\n",
    "        Sigma_dd_inv = torch.inverse(Sigma_dd)\n",
    "        mu_m_d = tensor_mu_m + torch.matmul(torch.matmul(Sigma_md, Sigma_dd_inv),(d-mu_eps))\n",
    "        Sigma_m_d = Sigma_mm - torch.matmul(torch.matmul(Sigma_md, Sigma_dd_inv), Sigma_dm)\n",
    "        all_solutions[int(f'{i+1}{j}'),:] = mu_m_d\n",
    "torch.save(all_solutions, f'../data/test_observations/all_test_solutions.pt')"
   ],
   "outputs": [],
   "metadata": {}
  }
 ],
 "metadata": {
  "orig_nbformat": 4,
  "language_info": {
   "name": "python",
   "version": "3.10.4",
   "mimetype": "text/x-python",
   "codemirror_mode": {
    "name": "ipython",
    "version": 3
   },
   "pygments_lexer": "ipython3",
   "nbconvert_exporter": "python",
   "file_extension": ".py"
  },
  "kernelspec": {
   "name": "python3",
   "display_name": "Python 3.10.4 64-bit ('pytorch_env': conda)"
  },
  "interpreter": {
   "hash": "24726422bde522ec9d6b8250d1636c6a7c473f035d7185ba3e11c63b1681e397"
  }
 },
 "nbformat": 4,
 "nbformat_minor": 2
}