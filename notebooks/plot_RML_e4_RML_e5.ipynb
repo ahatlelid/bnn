{
 "cells": [
  {
   "cell_type": "markdown",
   "source": [
    "# Plot for comparing spread"
   ],
   "metadata": {}
  },
  {
   "cell_type": "code",
   "execution_count": 18,
   "source": [
    "%load_ext autoreload\n",
    "%autoreload 2"
   ],
   "outputs": [
    {
     "output_type": "stream",
     "name": "stdout",
     "text": [
      "The autoreload extension is already loaded. To reload it, use:\n",
      "  %reload_ext autoreload\n"
     ]
    }
   ],
   "metadata": {}
  },
  {
   "cell_type": "code",
   "execution_count": 19,
   "source": [
    "import sys\n",
    "sys.path.append(\"..\")\n",
    "#import os\n",
    "from utils.model3 import Net_mask\n",
    "#from utils.data import Data\n",
    "#from utils.loss_experiment import Loss\n",
    "#from scripts.parameters import get_parameters\n",
    "import torch\n",
    "#import numpy as np\n",
    "import matplotlib.pyplot as plt"
   ],
   "outputs": [],
   "metadata": {}
  },
  {
   "cell_type": "code",
   "execution_count": 20,
   "source": [
    "model_map = Net_mask()\n",
    "model_map.load_state_dict(torch.load(f'../saved_models/model_infinite/2/model_weights.pth'))"
   ],
   "outputs": [
    {
     "output_type": "execute_result",
     "data": {
      "text/plain": [
       "<All keys matched successfully>"
      ]
     },
     "metadata": {},
     "execution_count": 20
    }
   ],
   "metadata": {}
  },
  {
   "cell_type": "code",
   "execution_count": 21,
   "source": [
    "def plot_comp_spread(num, n_points=None):\n",
    "    tensor_raw = torch.load('../data/test_observations/all_test_observations.pt')[num,:].unsqueeze(0)\n",
    "    post_mean = torch.load('../data/test_observations/all_test_solutions.pt')[num,:]\n",
    "    n_param = 10\n",
    "    input_tensor = tensor_raw[0]\n",
    "    mask = input_tensor[10:]\n",
    "    location_raw = torch.where(mask > 0.5)\n",
    "    location = location_raw[0]\n",
    "    points = tensor_raw[0][location_raw]\n",
    "\n",
    "    # Plotting model estimates\n",
    "    model = Net_mask()\n",
    "    map_estimate = model_map(tensor_raw)[0].detach()\n",
    "\n",
    "    #names = []\n",
    "    sum_tensor_map = torch.zeros(n_param)\n",
    "\n",
    "    n_runs = 100\n",
    "    plt.figure()\n",
    "    #plt.plot(range(10), map_estimate, 'b')\n",
    "    #plt.plot(range(10), post_mean, 'r')\n",
    "    sum_tensor_bnn = torch.zeros(n_param)\n",
    "    plt.subplot(1,2,1)\n",
    "    for f in range(n_runs): \n",
    "        name = f'../saved_models/rml_100/pos/{f}/model_weights.pth'\n",
    "        model.load_state_dict(torch.load(name))\n",
    "        model.eval()\n",
    "        out_raw = model(tensor_raw)\n",
    "        out = out_raw[0].detach()\n",
    "        sum_tensor_bnn += out\n",
    "        plt.plot(range(10), out, alpha=1)#, 'o')\n",
    "    #plt.plot(range(10), sum_tensor_bnn/n_runs, 'r')\n",
    "\n",
    "    plt.title('RML-e4 100 runs')\n",
    "    #plt.plot(range(10), post_mean, 'r')\n",
    "    #plt.plot(range(10), map_estimate, 'b')\n",
    "    plt.plot(location, points, 'ko')\n",
    "    plt.xlabel(\"m\")\n",
    "    plt.ylabel(\"m|d\")\n",
    "    #plt.legend(['Analytical', 'map'])#, 'Bagged BNN', 'MAP'])\n",
    "    plt.axis([-0.5, 9.5, -2.5, 2.5])\n",
    "    #plt.savefig(f'../figures/plot_RML_e4_RML_e5/plot_RML_e4_RML_e5_{n_points}.png')\n",
    "\n",
    "    sum_tensor_map = torch.zeros(n_param)\n",
    "    n_runs = 100\n",
    "    plt.subplot(1,2,2)\n",
    "    for f in range(n_runs): \n",
    "        name = f'../saved_models/rml_100_1.0e+04/pos/{f}/model_weights.pth'\n",
    "        model.load_state_dict(torch.load(name))\n",
    "        model.eval()\n",
    "        out_raw = model(tensor_raw)\n",
    "        out = out_raw[0].detach()\n",
    "        sum_tensor_map += out\n",
    "        plt.plot(range(10), out, alpha=1)#, 'o')\n",
    "    #plt.plot(range(10), sum_tensor_map/n_runs, 'r')\n",
    "\n",
    "    plt.title('RML-e5 100 runs')\n",
    "    #plt.plot(range(10), map_estimate, 'b')\n",
    "    #plt.plot(range(10), post_mean, 'r')\n",
    "    plt.plot(location, points, 'ko')\n",
    "    plt.xlabel(\"m\")\n",
    "    plt.ylabel(\"m|d\")\n",
    "    #plt.legend(['Analytical', 'map'])#, 'Bagged BNN', 'MAP'])\n",
    "    plt.axis([-0.5, 9.5, -2.5, 2.5])\n",
    "    plt.savefig(f'../figures/plot_RML_e4_RML_e5/plot_RML_e4_RML_e5_{n_points}.png')"
   ],
   "outputs": [],
   "metadata": {}
  },
  {
   "cell_type": "code",
   "execution_count": 22,
   "source": [
    "#n_points = 3\n",
    "i = 0\n",
    "#for i in range(6):\n",
    "for n_points in range(1, 7):\n",
    "    plot_comp_spread(int(f'{n_points}{i}'), n_points=n_points)"
   ],
   "outputs": [],
   "metadata": {}
  }
 ],
 "metadata": {
  "orig_nbformat": 4,
  "language_info": {
   "name": "python",
   "version": "3.10.4",
   "mimetype": "text/x-python",
   "codemirror_mode": {
    "name": "ipython",
    "version": 3
   },
   "pygments_lexer": "ipython3",
   "nbconvert_exporter": "python",
   "file_extension": ".py"
  },
  "kernelspec": {
   "name": "python3",
   "display_name": "Python 3.10.4 64-bit ('pytorch_env': conda)"
  },
  "interpreter": {
   "hash": "24726422bde522ec9d6b8250d1636c6a7c473f035d7185ba3e11c63b1681e397"
  }
 },
 "nbformat": 4,
 "nbformat_minor": 2
}