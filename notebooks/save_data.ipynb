{
 "cells": [
  {
   "cell_type": "code",
   "execution_count": 3,
   "source": [
    "%load_ext autoreload\n",
    "%autoreload 2"
   ],
   "outputs": [],
   "metadata": {}
  },
  {
   "cell_type": "code",
   "execution_count": 4,
   "source": [
    "import sys\n",
    "sys.path.append(\"..\")\n",
    "import os\n",
    "from utils.model import Net_mask\n",
    "#from utils.data import Data\n",
    "#from scripts.parameters import get_parameters, get_parameters_1\n",
    "import torch\n",
    "import numpy as np\n",
    "import matplotlib.pyplot as plt\n",
    "from torch.distributions.multivariate_normal import MultivariateNormal"
   ],
   "outputs": [],
   "metadata": {}
  },
  {
   "cell_type": "code",
   "execution_count": 5,
   "source": [
    "n_data = 100000\n",
    "n_param = 10\n",
    "sigma2_data = 1\n",
    "data_mean = torch.zeros(n_param)\n",
    "data_covariance = torch.eye(n_param)*sigma2_data\n",
    "\n",
    "tensor_data = torch.zeros(n_data, 2*n_param)\n",
    "tensor_d_sample =  MultivariateNormal(loc=data_mean, covariance_matrix=data_covariance).sample(sample_shape=(n_data,))\n",
    "tensor_n_masked = torch.randint(n_param, (n_data,))\n",
    "tensor_masks = torch.rand(n_data, n_param).argsort(dim=1)\n",
    "tensor_masks = (tensor_masks < tensor_n_masked.unsqueeze(1))*1\n",
    "tensor_data[:,:n_param] = tensor_d_sample*tensor_masks\n",
    "tensor_data[:,n_param:] = tensor_masks\n",
    "torch.save(tensor_data, '../data/run1/data_n_100000_var_1.pt')"
   ],
   "outputs": [],
   "metadata": {}
  },
  {
   "cell_type": "code",
   "execution_count": 6,
   "source": [
    "sigma2_eps = 0.1\n",
    "data_noise_mean = torch.zeros(n_param)\n",
    "data_noise_covariance = torch.eye(n_param)*sigma2_eps\n",
    "data_noise =  MultivariateNormal(loc=data_noise_mean, covariance_matrix=data_noise_covariance).sample(sample_shape=(n_data,))\n",
    "torch.save(data_noise, '../data/run1/data_noise_n_100000_var_0_1.pt')"
   ],
   "outputs": [],
   "metadata": {}
  },
  {
   "cell_type": "code",
   "execution_count": 7,
   "source": [
    "model = Net_mask()\n",
    "torch.save(model.state_dict(), '../data/run1/model_weights.pth')"
   ],
   "outputs": [],
   "metadata": {}
  },
  {
   "cell_type": "code",
   "execution_count": 8,
   "source": [
    "#tau2 = 0.5**2\n",
    "tau2 = 0.5\n",
    "n_theta = torch.cat([param.view(-1) for param in model.parameters()]).size()[0]\n",
    "theta_noise_mean = torch.zeros(n_theta)\n",
    "theta_noise_covariance = torch.eye(n_theta)*tau2\n",
    "theta_noise = MultivariateNormal(loc=theta_noise_mean, covariance_matrix=theta_noise_covariance).sample(sample_shape=(n_theta,))[0]\n",
    "torch.save(theta_noise, '../data/run1/theta_noise.pt')"
   ],
   "outputs": [],
   "metadata": {}
  },
  {
   "cell_type": "code",
   "execution_count": 9,
   "source": [
    "n_data = 5\n",
    "n_param = 10\n",
    "sigma2_data = 1\n",
    "data_mean = torch.zeros(n_param)\n",
    "data_covariance = torch.eye(n_param)*sigma2_data\n",
    "\n",
    "tensor_data = torch.zeros(n_data, 2*n_param)\n",
    "tensor_d_sample =  MultivariateNormal(loc=data_mean, covariance_matrix=data_covariance).sample(sample_shape=(n_data,))\n",
    "tensor_n_masked = torch.randint(n_param, (n_data,))\n",
    "tensor_masks = torch.rand(n_data, n_param).argsort(dim=1)\n",
    "tensor_masks = (tensor_masks < tensor_n_masked.unsqueeze(1))*1\n",
    "tensor_data[:,:n_param] = tensor_d_sample*tensor_masks\n",
    "tensor_data[:,n_param:] = tensor_masks\n",
    "tensor_data"
   ],
   "outputs": [
    {
     "output_type": "execute_result",
     "data": {
      "text/plain": [
       "tensor([[ 1.9577, -0.0000, -1.5375, -0.0000, -0.0000,  0.0827,  1.1485,  0.9240,\n",
       "         -0.0000,  0.0000,  1.0000,  0.0000,  1.0000,  0.0000,  0.0000,  1.0000,\n",
       "          1.0000,  1.0000,  0.0000,  0.0000],\n",
       "        [ 0.2819,  0.2763, -0.6372,  0.0000,  0.0000,  1.3755,  0.0000,  0.7951,\n",
       "         -0.3029, -0.0072,  1.0000,  1.0000,  1.0000,  0.0000,  0.0000,  1.0000,\n",
       "          0.0000,  1.0000,  1.0000,  1.0000],\n",
       "        [-1.6031,  2.3550,  1.3365,  0.0000,  0.7494,  1.1786, -0.4001, -1.7238,\n",
       "          0.4032,  1.0135,  1.0000,  1.0000,  1.0000,  0.0000,  1.0000,  1.0000,\n",
       "          1.0000,  1.0000,  1.0000,  1.0000],\n",
       "        [ 1.1441,  0.0000, -0.0000,  0.5468, -0.0000, -0.0000, -0.2267, -0.0000,\n",
       "         -0.1454,  1.2918,  1.0000,  0.0000,  0.0000,  1.0000,  0.0000,  0.0000,\n",
       "          1.0000,  0.0000,  1.0000,  1.0000],\n",
       "        [ 0.0000, -0.0000, -0.9138,  0.1288,  1.0785, -1.4407,  0.3798,  0.0000,\n",
       "         -0.0000, -0.0000,  0.0000,  0.0000,  1.0000,  1.0000,  1.0000,  1.0000,\n",
       "          1.0000,  0.0000,  0.0000,  0.0000]])"
      ]
     },
     "metadata": {},
     "execution_count": 9
    }
   ],
   "metadata": {}
  },
  {
   "cell_type": "code",
   "execution_count": 10,
   "source": [
    "idx = torch.randperm(tensor_data.nelement())\n",
    "tensor_data = tensor_data.view(-1)[idx].view(tensor_data.size())\n",
    "tensor_data"
   ],
   "outputs": [
    {
     "output_type": "execute_result",
     "data": {
      "text/plain": [
       "tensor([[ 1.3755, -1.4407,  1.0000,  0.1288, -1.6031,  1.3365,  1.0000, -0.0000,\n",
       "          1.0000,  1.0000, -0.0000,  1.0000, -0.1454, -1.7238,  1.0000, -0.0000,\n",
       "          0.9240,  1.1485,  1.0000,  0.7494],\n",
       "        [-0.4001,  1.0000,  0.0000,  1.0000, -0.3029,  1.0000,  0.0000,  1.0000,\n",
       "          1.0000,  0.3798,  0.0000, -0.0000,  0.0000, -0.0000,  1.0000, -0.6372,\n",
       "          1.0000, -0.0000,  0.2763,  0.0000],\n",
       "        [ 1.0000,  0.0000,  1.0000,  1.1786, -0.0000,  0.0000,  1.2918,  1.0000,\n",
       "          1.0785,  2.3550,  1.0000,  1.0135,  1.0000,  0.0000,  1.0000,  0.4032,\n",
       "          1.0000,  0.0000,  0.0000, -0.0000],\n",
       "        [ 0.0000,  1.1441,  0.0000,  1.0000,  0.0000, -0.0000,  0.0000,  0.0000,\n",
       "         -0.9138,  1.0000,  0.0000, -0.0072,  1.0000,  1.0000,  0.0000,  0.0000,\n",
       "          0.2819,  0.0000,  0.0000,  1.9577],\n",
       "        [-1.5375,  1.0000, -0.0000,  0.7951,  0.0000,  1.0000,  1.0000,  0.0000,\n",
       "          0.0827,  0.0000,  0.0000,  0.0000, -0.2267, -0.0000,  1.0000,  1.0000,\n",
       "          0.5468,  1.0000,  0.0000,  0.0000]])"
      ]
     },
     "metadata": {},
     "execution_count": 10
    }
   ],
   "metadata": {}
  },
  {
   "cell_type": "code",
   "execution_count": 12,
   "source": [
    "tensor_data[2]"
   ],
   "outputs": [
    {
     "output_type": "execute_result",
     "data": {
      "text/plain": [
       "tensor([1.0000, 0.0000, 1.0000, 1.1786, -0.0000, 0.0000, 1.2918, 1.0000, 1.0785,\n",
       "        2.3550, 1.0000, 1.0135, 1.0000, 0.0000, 1.0000, 0.4032, 1.0000, 0.0000,\n",
       "        0.0000, -0.0000])"
      ]
     },
     "metadata": {},
     "execution_count": 12
    }
   ],
   "metadata": {}
  },
  {
   "cell_type": "code",
   "execution_count": 22,
   "source": [
    "s = tensor_data.size(0)\n",
    "idx = torch.randperm(s)\n",
    "tensor_data[idx,:]"
   ],
   "outputs": [
    {
     "output_type": "execute_result",
     "data": {
      "text/plain": [
       "tensor([[-1.5375,  1.0000, -0.0000,  0.7951,  0.0000,  1.0000,  1.0000,  0.0000,\n",
       "          0.0827,  0.0000,  0.0000,  0.0000, -0.2267, -0.0000,  1.0000,  1.0000,\n",
       "          0.5468,  1.0000,  0.0000,  0.0000],\n",
       "        [ 0.0000,  1.1441,  0.0000,  1.0000,  0.0000, -0.0000,  0.0000,  0.0000,\n",
       "         -0.9138,  1.0000,  0.0000, -0.0072,  1.0000,  1.0000,  0.0000,  0.0000,\n",
       "          0.2819,  0.0000,  0.0000,  1.9577],\n",
       "        [ 1.3755, -1.4407,  1.0000,  0.1288, -1.6031,  1.3365,  1.0000, -0.0000,\n",
       "          1.0000,  1.0000, -0.0000,  1.0000, -0.1454, -1.7238,  1.0000, -0.0000,\n",
       "          0.9240,  1.1485,  1.0000,  0.7494],\n",
       "        [ 1.0000,  0.0000,  1.0000,  1.1786, -0.0000,  0.0000,  1.2918,  1.0000,\n",
       "          1.0785,  2.3550,  1.0000,  1.0135,  1.0000,  0.0000,  1.0000,  0.4032,\n",
       "          1.0000,  0.0000,  0.0000, -0.0000],\n",
       "        [-0.4001,  1.0000,  0.0000,  1.0000, -0.3029,  1.0000,  0.0000,  1.0000,\n",
       "          1.0000,  0.3798,  0.0000, -0.0000,  0.0000, -0.0000,  1.0000, -0.6372,\n",
       "          1.0000, -0.0000,  0.2763,  0.0000]])"
      ]
     },
     "metadata": {},
     "execution_count": 22
    }
   ],
   "metadata": {}
  },
  {
   "cell_type": "code",
   "execution_count": null,
   "source": [],
   "outputs": [],
   "metadata": {}
  }
 ],
 "metadata": {
  "orig_nbformat": 4,
  "language_info": {
   "name": "python",
   "version": "3.10.4",
   "mimetype": "text/x-python",
   "codemirror_mode": {
    "name": "ipython",
    "version": 3
   },
   "pygments_lexer": "ipython3",
   "nbconvert_exporter": "python",
   "file_extension": ".py"
  },
  "kernelspec": {
   "name": "python3",
   "display_name": "Python 3.10.4 64-bit ('pytorch_env': conda)"
  },
  "interpreter": {
   "hash": "24726422bde522ec9d6b8250d1636c6a7c473f035d7185ba3e11c63b1681e397"
  }
 },
 "nbformat": 4,
 "nbformat_minor": 2
}