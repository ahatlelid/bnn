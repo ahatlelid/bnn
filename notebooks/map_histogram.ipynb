{
 "cells": [
  {
   "cell_type": "code",
   "execution_count": null,
   "source": [
    "\n",
    "import sys\n",
    "sys.path.append(\"..\")\n",
    "\n",
    "from utils.model3 import Net_mask\n",
    "#from utils.model4 import Net_mask\n",
    "import torch\n",
    "\n",
    "import matplotlib.pyplot as plt"
   ],
   "outputs": [],
   "metadata": {}
  }
 ],
 "metadata": {
  "orig_nbformat": 4,
  "language_info": {
   "name": "python"
  }
 },
 "nbformat": 4,
 "nbformat_minor": 2
}