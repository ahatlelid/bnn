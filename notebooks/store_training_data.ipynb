{
 "cells": [
  {
   "cell_type": "code",
   "execution_count": 68,
   "source": [
    "%load_ext autoreload\n",
    "%autoreload 2"
   ],
   "outputs": [
    {
     "output_type": "stream",
     "name": "stdout",
     "text": [
      "The autoreload extension is already loaded. To reload it, use:\n",
      "  %reload_ext autoreload\n"
     ]
    }
   ],
   "metadata": {}
  },
  {
   "cell_type": "code",
   "execution_count": 69,
   "source": [
    "# imports\n",
    "import sys\n",
    "sys.path.append(\"..\")\n",
    "import os\n",
    "import shutil\n",
    "\n",
    "import torch\n",
    "from torch.distributions.multivariate_normal import MultivariateNormal\n",
    "\n",
    "import matplotlib.pyplot as plt"
   ],
   "outputs": [],
   "metadata": {}
  },
  {
   "cell_type": "code",
   "execution_count": 70,
   "source": [
    "# set these parameters to create all files\n",
    "n_data = int(1e4)\n",
    "folder = f'../data/{n_data:.1e}/'\n",
    "import utils.model3\n",
    "model = utils.model3.Net_mask()\n",
    "n_bnn = 100"
   ],
   "outputs": [],
   "metadata": {}
  },
  {
   "cell_type": "code",
   "execution_count": 71,
   "source": [
    "# run this to clean folder \n",
    "path_to_output_folder = folder\n",
    "if os.path.exists(path_to_output_folder) and os.path.isdir(path_to_output_folder):\n",
    "    shutil.rmtree(path_to_output_folder)\n",
    "os.makedirs(path_to_output_folder)"
   ],
   "outputs": [],
   "metadata": {}
  },
  {
   "cell_type": "code",
   "execution_count": 72,
   "source": [
    "path_to_output_folder = f'{folder}data/' \n",
    "if os.path.exists(path_to_output_folder) and os.path.isdir(path_to_output_folder):\n",
    "    shutil.rmtree(path_to_output_folder)\n",
    "os.makedirs(path_to_output_folder)\n",
    "\n",
    "n_param = 10\n",
    "data_cov = 1\n",
    "data_mean = torch.zeros(n_param)\n",
    "data_covariance = torch.eye(n_param)*data_cov\n",
    "\n",
    "torch.manual_seed(1)\n",
    "tensor_data = torch.zeros(n_data, 2*n_param)\n",
    "tensor_d_sample =  MultivariateNormal(loc=data_mean, covariance_matrix=data_covariance).sample(sample_shape=(n_data,))\n",
    "tensor_n_masked = torch.randint(n_param, (n_data,))\n",
    "tensor_masks = torch.rand(n_data, n_param).argsort(dim=1)\n",
    "tensor_masks = (tensor_masks < tensor_n_masked.unsqueeze(1))*1\n",
    "tensor_data[:,:n_param] = tensor_d_sample*tensor_masks\n",
    "tensor_data[:,n_param:] = tensor_masks\n",
    "torch.save(tensor_data, f'{path_to_output_folder}data.pt')"
   ],
   "outputs": [],
   "metadata": {}
  },
  {
   "cell_type": "code",
   "execution_count": 73,
   "source": [
    "tensor_D = torch.tensor(\n",
    "    [[1, -1, 0, 0, 0, 0, 0, 0, 0, 0],\n",
    "    [0, 1, -1, 0, 0, 0, 0, 0, 0, 0],\n",
    "    [0, 0,  1, -1, 0, 0, 0, 0, 0, 0],\n",
    "    [0, 0,  0, 1, -1, 0, 0, 0, 0, 0],\n",
    "    [0, 0,  0, 0, 1, -1, 0, 0, 0, 0],\n",
    "    [0, 0,  0, 0, 0, 1, -1, 0, 0, 0],\n",
    "    [0, 0,  0, 0, 0, 0, 1, -1, 0, 0],\n",
    "    [0, 0,  0, 0, 0, 0, 0, 1, -1, 0],\n",
    "    [0, 0,  0, 0, 0, 0, 0, 0, 1, -1],\n",
    "    [-1, 0, 0, 0, 0, 0, 0, 0, 0, 1],], dtype=torch.float\n",
    ")\n",
    "tensor_Q_m = torch.mm(torch.t(tensor_D), tensor_D) \n",
    "n_param = tensor_D.size(dim=0)\n",
    "vu = 1000\n",
    "inversion_scaling = 1/vu\n",
    "tensor_Q_m_modified = tensor_Q_m + torch.eye(n_param)*inversion_scaling \n",
    "tensor_Sigma_m = torch.inverse(tensor_Q_m_modified)"
   ],
   "outputs": [],
   "metadata": {}
  },
  {
   "cell_type": "code",
   "execution_count": 74,
   "source": [
    "path_to_output_folder = f'{folder}rml_noise/' \n",
    "if os.path.exists(path_to_output_folder) and os.path.isdir(path_to_output_folder):\n",
    "    shutil.rmtree(path_to_output_folder)\n",
    "os.makedirs(path_to_output_folder)\n",
    "\n",
    "sigma2 = 0.1**2\n",
    "tau2 = 0.3**2\n",
    "n_weights = sum(p.numel() for p in model.parameters())\n",
    "\n",
    "for i in range(n_bnn):\n",
    "    print(i)\n",
    "    path = f'{path_to_output_folder}{i}/'\n",
    "    os.makedirs(path)\n",
    "    noise_data = MultivariateNormal(loc=torch.zeros(n_param), covariance_matrix=(torch.eye(n_param)*sigma2)).sample(sample_shape=(n_data,))\n",
    "    noise_data_regularization =  MultivariateNormal(loc=torch.zeros(n_param), covariance_matrix=(tensor_Sigma_m)).sample(sample_shape=(n_data,))\n",
    "    noise_parameter = torch.t(MultivariateNormal(loc=torch.zeros(1), covariance_matrix=(torch.eye(1)*tau2)).sample(sample_shape=(n_weights,)))\n",
    "    torch.save(noise_data, f'{path}noise_data.pt')\n",
    "    torch.save(noise_data_regularization, f'{path}noise_data_regularization.pt')\n",
    "    torch.save(noise_parameter, f'{path}noise_parameter.pt')"
   ],
   "outputs": [
    {
     "output_type": "stream",
     "name": "stdout",
     "text": [
      "0\n",
      "1\n",
      "2\n",
      "3\n",
      "4\n",
      "5\n",
      "6\n",
      "7\n",
      "8\n",
      "9\n",
      "10\n",
      "11\n",
      "12\n",
      "13\n",
      "14\n",
      "15\n",
      "16\n",
      "17\n",
      "18\n",
      "19\n",
      "20\n",
      "21\n",
      "22\n",
      "23\n",
      "24\n",
      "25\n",
      "26\n",
      "27\n",
      "28\n",
      "29\n",
      "30\n",
      "31\n",
      "32\n",
      "33\n",
      "34\n",
      "35\n",
      "36\n",
      "37\n",
      "38\n",
      "39\n",
      "40\n",
      "41\n",
      "42\n",
      "43\n",
      "44\n",
      "45\n",
      "46\n",
      "47\n",
      "48\n",
      "49\n",
      "50\n",
      "51\n",
      "52\n",
      "53\n",
      "54\n",
      "55\n",
      "56\n",
      "57\n",
      "58\n",
      "59\n",
      "60\n",
      "61\n",
      "62\n",
      "63\n",
      "64\n",
      "65\n",
      "66\n",
      "67\n",
      "68\n",
      "69\n",
      "70\n",
      "71\n",
      "72\n",
      "73\n",
      "74\n",
      "75\n",
      "76\n",
      "77\n",
      "78\n",
      "79\n",
      "80\n",
      "81\n",
      "82\n",
      "83\n",
      "84\n",
      "85\n",
      "86\n",
      "87\n",
      "88\n",
      "89\n",
      "90\n",
      "91\n",
      "92\n",
      "93\n",
      "94\n",
      "95\n",
      "96\n",
      "97\n",
      "98\n",
      "99\n"
     ]
    }
   ],
   "metadata": {}
  }
 ],
 "metadata": {
  "orig_nbformat": 4,
  "language_info": {
   "name": "python",
   "version": "3.10.4",
   "mimetype": "text/x-python",
   "codemirror_mode": {
    "name": "ipython",
    "version": 3
   },
   "pygments_lexer": "ipython3",
   "nbconvert_exporter": "python",
   "file_extension": ".py"
  },
  "kernelspec": {
   "name": "python3",
   "display_name": "Python 3.10.4 64-bit ('pytorch_env': conda)"
  },
  "interpreter": {
   "hash": "24726422bde522ec9d6b8250d1636c6a7c473f035d7185ba3e11c63b1681e397"
  }
 },
 "nbformat": 4,
 "nbformat_minor": 2
}