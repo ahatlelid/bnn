{
 "cells": [
  {
   "cell_type": "code",
   "execution_count": 4,
   "source": [
    "for i in range(1, 16):\n",
    "    print(f'{i:2} {13-(i-1)*0.4:4}')"
   ],
   "outputs": [
    {
     "output_type": "stream",
     "name": "stdout",
     "text": [
      " 1 13.0\n",
      " 2 12.6\n",
      " 3 12.2\n",
      " 4 11.8\n",
      " 5 11.4\n",
      " 6 11.0\n",
      " 7 10.6\n",
      " 8 10.2\n",
      " 9  9.8\n",
      "10  9.4\n",
      "11  9.0\n",
      "12  8.6\n",
      "13  8.2\n",
      "14  7.8\n",
      "15 7.3999999999999995\n"
     ]
    }
   ],
   "metadata": {}
  }
 ],
 "metadata": {
  "orig_nbformat": 4,
  "language_info": {
   "name": "python",
   "version": "3.10.4",
   "mimetype": "text/x-python",
   "codemirror_mode": {
    "name": "ipython",
    "version": 3
   },
   "pygments_lexer": "ipython3",
   "nbconvert_exporter": "python",
   "file_extension": ".py"
  },
  "kernelspec": {
   "name": "python3",
   "display_name": "Python 3.10.4 64-bit ('pytorch_env': conda)"
  },
  "interpreter": {
   "hash": "24726422bde522ec9d6b8250d1636c6a7c473f035d7185ba3e11c63b1681e397"
  }
 },
 "nbformat": 4,
 "nbformat_minor": 2
}